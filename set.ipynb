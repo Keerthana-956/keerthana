{
  "nbformat": 4,
  "nbformat_minor": 0,
  "metadata": {
    "colab": {
      "provenance": []
    },
    "kernelspec": {
      "name": "python3",
      "display_name": "Python 3"
    },
    "language_info": {
      "name": "python"
    }
  },
  "cells": [
    {
      "cell_type": "code",
      "execution_count": null,
      "metadata": {
        "id": "SE20IAZR9crn"
      },
      "outputs": [],
      "source": [
        "SET\n",
        "  doesnot allow duplicates\n",
        "  ordered-first place\n",
        "  In set,elements cannot be retrived using index\n",
        "  set is mutable\n"
      ]
    },
    {
      "cell_type": "code",
      "source": [
        "sample_set={1,13.9,\"hello\",12,1,125,25,\"apple\",\"king\",\"ball\"}\n",
        "sample_set"
      ],
      "metadata": {
        "colab": {
          "base_uri": "https://localhost:8080/"
        },
        "id": "Nsz-6MmN-a-L",
        "outputId": "ecb98492-799d-4e54-d7fc-9402c950b81e"
      },
      "execution_count": 1,
      "outputs": [
        {
          "output_type": "execute_result",
          "data": {
            "text/plain": [
              "{1, 12, 125, 13.9, 25, 'apple', 'ball', 'hello', 'king'}"
            ]
          },
          "metadata": {},
          "execution_count": 1
        }
      ]
    },
    {
      "cell_type": "code",
      "source": [
        "type(sample_set)"
      ],
      "metadata": {
        "colab": {
          "base_uri": "https://localhost:8080/"
        },
        "id": "NkgAFocb-0Wk",
        "outputId": "5439f02b-0ee3-43b8-e9f6-cb6bee1b364f"
      },
      "execution_count": 2,
      "outputs": [
        {
          "output_type": "execute_result",
          "data": {
            "text/plain": [
              "set"
            ]
          },
          "metadata": {},
          "execution_count": 2
        }
      ]
    },
    {
      "cell_type": "code",
      "source": [
        "sample_set.add(1000)\n",
        "sample_set"
      ],
      "metadata": {
        "colab": {
          "base_uri": "https://localhost:8080/"
        },
        "id": "N_VGzgrP_soz",
        "outputId": "fd7badd4-8288-4c15-f0c4-0a83fb4d2f28"
      },
      "execution_count": 5,
      "outputs": [
        {
          "output_type": "execute_result",
          "data": {
            "text/plain": [
              "{1, 1000, 12, 125, 13.9, 25, 'apple', 'ball', 'hello', 'king'}"
            ]
          },
          "metadata": {},
          "execution_count": 5
        }
      ]
    },
    {
      "cell_type": "code",
      "source": [
        "sample_set.remove(\"hello\")\n",
        "sample_set"
      ],
      "metadata": {
        "colab": {
          "base_uri": "https://localhost:8080/"
        },
        "id": "l3bRtTAhAqnZ",
        "outputId": "9a307439-e64d-41ea-e186-88fe56a132ad"
      },
      "execution_count": 6,
      "outputs": [
        {
          "output_type": "execute_result",
          "data": {
            "text/plain": [
              "{1, 1000, 12, 125, 13.9, 25, 'apple', 'ball', 'king'}"
            ]
          },
          "metadata": {},
          "execution_count": 6
        }
      ]
    },
    {
      "cell_type": "code",
      "source": [
        "sample_set.add(\"keerthana\")\n",
        "sample_set"
      ],
      "metadata": {
        "colab": {
          "base_uri": "https://localhost:8080/"
        },
        "id": "73lIPG8HA4RX",
        "outputId": "769da6c9-a42b-4e4e-86ef-9f3f79a7cf5c"
      },
      "execution_count": 8,
      "outputs": [
        {
          "output_type": "execute_result",
          "data": {
            "text/plain": [
              "{1, 1000, 12, 125, 13.9, 25, 'apple', 'ball', 'keerthana', 'king'}"
            ]
          },
          "metadata": {},
          "execution_count": 8
        }
      ]
    },
    {
      "cell_type": "code",
      "source": [
        "sample_set.remove(\"king\")\n",
        "sample_set"
      ],
      "metadata": {
        "colab": {
          "base_uri": "https://localhost:8080/"
        },
        "id": "6thltebdBfKl",
        "outputId": "bdf1c7d0-ba87-47a4-cdde-b7f09dc1ad7c"
      },
      "execution_count": 10,
      "outputs": [
        {
          "output_type": "execute_result",
          "data": {
            "text/plain": [
              "{1, 1000, 12, 125, 13.9, 25, 'apple', 'ball', 'keerthana'}"
            ]
          },
          "metadata": {},
          "execution_count": 10
        }
      ]
    },
    {
      "cell_type": "code",
      "source": [
        "sample_set.add(\"queen\")\n",
        "sample_set"
      ],
      "metadata": {
        "colab": {
          "base_uri": "https://localhost:8080/"
        },
        "id": "5Th7bFjSBp36",
        "outputId": "91f01ca4-0f79-44ae-db14-a85f8c23f520"
      },
      "execution_count": 11,
      "outputs": [
        {
          "output_type": "execute_result",
          "data": {
            "text/plain": [
              "{1, 1000, 12, 125, 13.9, 25, 'apple', 'ball', 'keerthana', 'queen'}"
            ]
          },
          "metadata": {},
          "execution_count": 11
        }
      ]
    }
  ]
}