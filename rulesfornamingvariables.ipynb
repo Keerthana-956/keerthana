{
  "nbformat": 4,
  "nbformat_minor": 0,
  "metadata": {
    "colab": {
      "provenance": []
    },
    "kernelspec": {
      "name": "python3",
      "display_name": "Python 3"
    },
    "language_info": {
      "name": "python"
    }
  },
  "cells": [
    {
      "cell_type": "code",
      "execution_count": null,
      "metadata": {
        "id": "ukIVl2HiL1cD"
      },
      "outputs": [],
      "source": [
        "         RULES FOR NAMING THE VARIABLE\n",
        "\n",
        "  The first character must be a letter or an underscore\n",
        "  The rest of the variables name can include any letter,any number,or the underscore\n",
        "  no limit to the length of the variable name\n",
        "  include upper case alphabets.python is case sensitive       "
      ]
    },
    {
      "cell_type": "code",
      "source": [
        "age=input(\"what is your age\")"
      ],
      "metadata": {
        "colab": {
          "base_uri": "https://localhost:8080/"
        },
        "id": "CX0ytQyUNzwr",
        "outputId": "67d25bfe-0c92-4963-8d96-3c87b5163568"
      },
      "execution_count": 2,
      "outputs": [
        {
          "name": "stdout",
          "output_type": "stream",
          "text": [
            "what is your age5\n"
          ]
        }
      ]
    },
    {
      "cell_type": "code",
      "source": [
        "myname=\"keerthana\""
      ],
      "metadata": {
        "id": "7lnO3X5WOdmM"
      },
      "execution_count": 3,
      "outputs": []
    },
    {
      "cell_type": "code",
      "source": [
        "MyName=\"keerthana\""
      ],
      "metadata": {
        "id": "nKXh7ntaOl0V"
      },
      "execution_count": 4,
      "outputs": []
    },
    {
      "cell_type": "code",
      "source": [
        "class_age=(1,2,34,42,25,27)"
      ],
      "metadata": {
        "id": "N4z58QsTOutu"
      },
      "execution_count": 7,
      "outputs": []
    },
    {
      "cell_type": "code",
      "source": [
        "class1=50\n",
        "class2=65\n",
        "print(class1)"
      ],
      "metadata": {
        "colab": {
          "base_uri": "https://localhost:8080/"
        },
        "id": "t1gwDiqxPS-I",
        "outputId": "7b076e09-5681-463c-c880-a6fab390a93f"
      },
      "execution_count": 8,
      "outputs": [
        {
          "output_type": "stream",
          "name": "stdout",
          "text": [
            "50\n"
          ]
        }
      ]
    },
    {
      "cell_type": "code",
      "source": [
        "my_age=15\n",
        "myname=\"keerthana\"\n",
        "MyRollno=60\n",
        "print(my_age)"
      ],
      "metadata": {
        "colab": {
          "base_uri": "https://localhost:8080/"
        },
        "id": "MnExKAi_PgFo",
        "outputId": "07eb38c3-7127-4f5e-dd98-1fc40cbc87de"
      },
      "execution_count": 10,
      "outputs": [
        {
          "output_type": "stream",
          "name": "stdout",
          "text": [
            "15\n"
          ]
        }
      ]
    },
    {
      "cell_type": "code",
      "source": [
        "print(MyRollno)"
      ],
      "metadata": {
        "colab": {
          "base_uri": "https://localhost:8080/"
        },
        "id": "aTvveL2LP6ae",
        "outputId": "28a2423e-7981-4f59-b432-55f2856c2bce"
      },
      "execution_count": 11,
      "outputs": [
        {
          "output_type": "stream",
          "name": "stdout",
          "text": [
            "60\n"
          ]
        }
      ]
    },
    {
      "cell_type": "code",
      "source": [
        "print(myname)"
      ],
      "metadata": {
        "id": "gjTI1x3VQAnS",
        "outputId": "089df28c-0e59-47cd-cc50-d08e42d4d5e8",
        "colab": {
          "base_uri": "https://localhost:8080/"
        }
      },
      "execution_count": 12,
      "outputs": [
        {
          "output_type": "stream",
          "name": "stdout",
          "text": [
            "keerthana\n"
          ]
        }
      ]
    }
  ]
}