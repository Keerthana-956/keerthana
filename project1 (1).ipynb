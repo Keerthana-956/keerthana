{
 "cells": [
  {
   "cell_type": "code",
   "execution_count": 19,
   "id": "2e3c1606",
   "metadata": {},
   "outputs": [],
   "source": [
    "import numpy as np\n",
    "import pandas as pd\n",
    "import seaborn as sns\n",
    "import matplotlib.pyplot as plt\n",
    "from sklearn.model_selection import train_test_split\n",
    "from sklearn.linear_model import LinearRegression"
   ]
  },
  {
   "cell_type": "code",
   "execution_count": null,
   "id": "9d6ebef6",
   "metadata": {},
   "outputs": [],
   "source": [
    "###problem statement\n",
    "predicting the newyork taxifare data"
   ]
  },
  {
   "cell_type": "code",
   "execution_count": 3,
   "id": "4eb61c67",
   "metadata": {},
   "outputs": [],
   "source": [
    "df=pd.read_csv(\"https://raw.githubusercontent.com/Premalatha-success/Datasets/main/TaxiFare.csv\",nrows=5000)"
   ]
  },
  {
   "cell_type": "code",
   "execution_count": 4,
   "id": "094b768c",
   "metadata": {},
   "outputs": [
    {
     "data": {
      "text/html": [
       "<div>\n",
       "<style scoped>\n",
       "    .dataframe tbody tr th:only-of-type {\n",
       "        vertical-align: middle;\n",
       "    }\n",
       "\n",
       "    .dataframe tbody tr th {\n",
       "        vertical-align: top;\n",
       "    }\n",
       "\n",
       "    .dataframe thead th {\n",
       "        text-align: right;\n",
       "    }\n",
       "</style>\n",
       "<table border=\"1\" class=\"dataframe\">\n",
       "  <thead>\n",
       "    <tr style=\"text-align: right;\">\n",
       "      <th></th>\n",
       "      <th>unique_id</th>\n",
       "      <th>amount</th>\n",
       "      <th>date_time_of_pickup</th>\n",
       "      <th>longitude_of_pickup</th>\n",
       "      <th>latitude_of_pickup</th>\n",
       "      <th>longitude_of_dropoff</th>\n",
       "      <th>latitude_of_dropoff</th>\n",
       "      <th>no_of_passenger</th>\n",
       "    </tr>\n",
       "  </thead>\n",
       "  <tbody>\n",
       "    <tr>\n",
       "      <th>345</th>\n",
       "      <td>44:00.0</td>\n",
       "      <td>36.5</td>\n",
       "      <td>2011-05-04 13:44:00 UTC</td>\n",
       "      <td>-73.873068</td>\n",
       "      <td>40.774183</td>\n",
       "      <td>-73.978847</td>\n",
       "      <td>40.762062</td>\n",
       "      <td>5</td>\n",
       "    </tr>\n",
       "    <tr>\n",
       "      <th>824</th>\n",
       "      <td>55:00.0</td>\n",
       "      <td>7.7</td>\n",
       "      <td>2010-09-26 01:55:00 UTC</td>\n",
       "      <td>-73.995700</td>\n",
       "      <td>40.764427</td>\n",
       "      <td>-73.992148</td>\n",
       "      <td>40.744787</td>\n",
       "      <td>2</td>\n",
       "    </tr>\n",
       "    <tr>\n",
       "      <th>4660</th>\n",
       "      <td>12:57.0</td>\n",
       "      <td>12.0</td>\n",
       "      <td>2013-06-25 19:12:57 UTC</td>\n",
       "      <td>-73.972015</td>\n",
       "      <td>40.765480</td>\n",
       "      <td>-73.990055</td>\n",
       "      <td>40.744908</td>\n",
       "      <td>3</td>\n",
       "    </tr>\n",
       "    <tr>\n",
       "      <th>2504</th>\n",
       "      <td>35:00.0</td>\n",
       "      <td>4.1</td>\n",
       "      <td>2012-06-30 14:35:00 UTC</td>\n",
       "      <td>-74.005650</td>\n",
       "      <td>40.736715</td>\n",
       "      <td>-73.999745</td>\n",
       "      <td>40.738560</td>\n",
       "      <td>1</td>\n",
       "    </tr>\n",
       "    <tr>\n",
       "      <th>2215</th>\n",
       "      <td>24:00.0</td>\n",
       "      <td>6.1</td>\n",
       "      <td>2009-03-27 22:24:00 UTC</td>\n",
       "      <td>-73.985355</td>\n",
       "      <td>40.760933</td>\n",
       "      <td>-73.982747</td>\n",
       "      <td>40.775540</td>\n",
       "      <td>5</td>\n",
       "    </tr>\n",
       "    <tr>\n",
       "      <th>4036</th>\n",
       "      <td>43:00.0</td>\n",
       "      <td>5.7</td>\n",
       "      <td>2010-04-23 00:43:00 UTC</td>\n",
       "      <td>-73.988818</td>\n",
       "      <td>40.734603</td>\n",
       "      <td>-73.997853</td>\n",
       "      <td>40.746072</td>\n",
       "      <td>1</td>\n",
       "    </tr>\n",
       "    <tr>\n",
       "      <th>2778</th>\n",
       "      <td>30:16.0</td>\n",
       "      <td>6.7</td>\n",
       "      <td>2009-09-15 18:30:16 UTC</td>\n",
       "      <td>-73.985316</td>\n",
       "      <td>40.747449</td>\n",
       "      <td>-74.002334</td>\n",
       "      <td>40.733677</td>\n",
       "      <td>1</td>\n",
       "    </tr>\n",
       "    <tr>\n",
       "      <th>2496</th>\n",
       "      <td>15:18.0</td>\n",
       "      <td>7.3</td>\n",
       "      <td>2009-06-27 17:15:18 UTC</td>\n",
       "      <td>-73.988809</td>\n",
       "      <td>40.745253</td>\n",
       "      <td>-73.973665</td>\n",
       "      <td>40.738119</td>\n",
       "      <td>1</td>\n",
       "    </tr>\n",
       "    <tr>\n",
       "      <th>4706</th>\n",
       "      <td>02:57.0</td>\n",
       "      <td>37.0</td>\n",
       "      <td>2015-04-23 22:02:57 UTC</td>\n",
       "      <td>-73.942833</td>\n",
       "      <td>40.790199</td>\n",
       "      <td>-73.940781</td>\n",
       "      <td>40.674770</td>\n",
       "      <td>2</td>\n",
       "    </tr>\n",
       "    <tr>\n",
       "      <th>3121</th>\n",
       "      <td>43:00.0</td>\n",
       "      <td>9.7</td>\n",
       "      <td>2011-11-16 13:43:00 UTC</td>\n",
       "      <td>-73.962150</td>\n",
       "      <td>40.779097</td>\n",
       "      <td>-73.981937</td>\n",
       "      <td>40.773165</td>\n",
       "      <td>5</td>\n",
       "    </tr>\n",
       "  </tbody>\n",
       "</table>\n",
       "</div>"
      ],
      "text/plain": [
       "     unique_id  amount      date_time_of_pickup  longitude_of_pickup  \\\n",
       "345    44:00.0    36.5  2011-05-04 13:44:00 UTC           -73.873068   \n",
       "824    55:00.0     7.7  2010-09-26 01:55:00 UTC           -73.995700   \n",
       "4660   12:57.0    12.0  2013-06-25 19:12:57 UTC           -73.972015   \n",
       "2504   35:00.0     4.1  2012-06-30 14:35:00 UTC           -74.005650   \n",
       "2215   24:00.0     6.1  2009-03-27 22:24:00 UTC           -73.985355   \n",
       "4036   43:00.0     5.7  2010-04-23 00:43:00 UTC           -73.988818   \n",
       "2778   30:16.0     6.7  2009-09-15 18:30:16 UTC           -73.985316   \n",
       "2496   15:18.0     7.3  2009-06-27 17:15:18 UTC           -73.988809   \n",
       "4706   02:57.0    37.0  2015-04-23 22:02:57 UTC           -73.942833   \n",
       "3121   43:00.0     9.7  2011-11-16 13:43:00 UTC           -73.962150   \n",
       "\n",
       "      latitude_of_pickup  longitude_of_dropoff  latitude_of_dropoff  \\\n",
       "345            40.774183            -73.978847            40.762062   \n",
       "824            40.764427            -73.992148            40.744787   \n",
       "4660           40.765480            -73.990055            40.744908   \n",
       "2504           40.736715            -73.999745            40.738560   \n",
       "2215           40.760933            -73.982747            40.775540   \n",
       "4036           40.734603            -73.997853            40.746072   \n",
       "2778           40.747449            -74.002334            40.733677   \n",
       "2496           40.745253            -73.973665            40.738119   \n",
       "4706           40.790199            -73.940781            40.674770   \n",
       "3121           40.779097            -73.981937            40.773165   \n",
       "\n",
       "      no_of_passenger  \n",
       "345                 5  \n",
       "824                 2  \n",
       "4660                3  \n",
       "2504                1  \n",
       "2215                5  \n",
       "4036                1  \n",
       "2778                1  \n",
       "2496                1  \n",
       "4706                2  \n",
       "3121                5  "
      ]
     },
     "execution_count": 4,
     "metadata": {},
     "output_type": "execute_result"
    }
   ],
   "source": [
    "df.sample(10)"
   ]
  },
  {
   "cell_type": "code",
   "execution_count": 5,
   "id": "ba442acb",
   "metadata": {},
   "outputs": [
    {
     "data": {
      "text/plain": [
       "<bound method NDFrame.head of      unique_id  amount      date_time_of_pickup  longitude_of_pickup  \\\n",
       "0      26:21.0     4.5  2009-06-15 17:26:21 UTC           -73.844311   \n",
       "1      52:16.0    16.9  2010-01-05 16:52:16 UTC           -74.016048   \n",
       "2      35:00.0     5.7  2011-08-18 00:35:00 UTC           -73.982738   \n",
       "3      30:42.0     7.7  2012-04-21 04:30:42 UTC           -73.987130   \n",
       "4      51:00.0     5.3  2010-03-09 07:51:00 UTC           -73.968095   \n",
       "...        ...     ...                      ...                  ...   \n",
       "4995   45:32.0     6.5  2010-09-04 12:45:32 UTC           -73.980622   \n",
       "4996   53:52.0     4.9  2011-06-13 10:53:52 UTC           -73.956664   \n",
       "4997   26:40.0     7.5  2013-12-12 21:26:40 UTC           -73.988707   \n",
       "4998   01:00.0     7.7  2010-03-08 14:01:00 UTC           -73.952795   \n",
       "4999   37:41.0    13.3  2011-02-28 18:37:41 UTC           -73.983301   \n",
       "\n",
       "      latitude_of_pickup  longitude_of_dropoff  latitude_of_dropoff  \\\n",
       "0              40.721319            -73.841610            40.712278   \n",
       "1              40.711303            -73.979268            40.782004   \n",
       "2              40.761270            -73.991242            40.750562   \n",
       "3              40.733143            -73.991567            40.758092   \n",
       "4              40.768008            -73.956655            40.783762   \n",
       "...                  ...                   ...                  ...   \n",
       "4995           40.745157            -73.975777            40.755863   \n",
       "4996           40.766989            -73.961371            40.772639   \n",
       "4997           40.734343            -73.991737            40.722582   \n",
       "4998           40.776642            -73.965320            40.759412   \n",
       "4999           40.743722            -73.964523            40.710758   \n",
       "\n",
       "      no_of_passenger  \n",
       "0                   1  \n",
       "1                   1  \n",
       "2                   2  \n",
       "3                   1  \n",
       "4                   1  \n",
       "...               ...  \n",
       "4995                1  \n",
       "4996                1  \n",
       "4997                1  \n",
       "4998                5  \n",
       "4999                1  \n",
       "\n",
       "[5000 rows x 8 columns]>"
      ]
     },
     "execution_count": 5,
     "metadata": {},
     "output_type": "execute_result"
    }
   ],
   "source": [
    "df.head"
   ]
  },
  {
   "cell_type": "code",
   "execution_count": 6,
   "id": "506583ab",
   "metadata": {},
   "outputs": [
    {
     "data": {
      "text/plain": [
       "(5000, 8)"
      ]
     },
     "execution_count": 6,
     "metadata": {},
     "output_type": "execute_result"
    }
   ],
   "source": [
    "df.shape"
   ]
  },
  {
   "cell_type": "code",
   "execution_count": 7,
   "id": "252f96d2",
   "metadata": {},
   "outputs": [
    {
     "name": "stdout",
     "output_type": "stream",
     "text": [
      "<class 'pandas.core.frame.DataFrame'>\n",
      "RangeIndex: 5000 entries, 0 to 4999\n",
      "Data columns (total 8 columns):\n",
      " #   Column                Non-Null Count  Dtype  \n",
      "---  ------                --------------  -----  \n",
      " 0   unique_id             5000 non-null   object \n",
      " 1   amount                5000 non-null   float64\n",
      " 2   date_time_of_pickup   5000 non-null   object \n",
      " 3   longitude_of_pickup   5000 non-null   float64\n",
      " 4   latitude_of_pickup    5000 non-null   float64\n",
      " 5   longitude_of_dropoff  5000 non-null   float64\n",
      " 6   latitude_of_dropoff   5000 non-null   float64\n",
      " 7   no_of_passenger       5000 non-null   int64  \n",
      "dtypes: float64(5), int64(1), object(2)\n",
      "memory usage: 312.6+ KB\n"
     ]
    }
   ],
   "source": [
    "df.info()"
   ]
  },
  {
   "cell_type": "code",
   "execution_count": 8,
   "id": "49b76ef3",
   "metadata": {},
   "outputs": [
    {
     "data": {
      "text/html": [
       "<div>\n",
       "<style scoped>\n",
       "    .dataframe tbody tr th:only-of-type {\n",
       "        vertical-align: middle;\n",
       "    }\n",
       "\n",
       "    .dataframe tbody tr th {\n",
       "        vertical-align: top;\n",
       "    }\n",
       "\n",
       "    .dataframe thead th {\n",
       "        text-align: right;\n",
       "    }\n",
       "</style>\n",
       "<table border=\"1\" class=\"dataframe\">\n",
       "  <thead>\n",
       "    <tr style=\"text-align: right;\">\n",
       "      <th></th>\n",
       "      <th>amount</th>\n",
       "      <th>longitude_of_pickup</th>\n",
       "      <th>latitude_of_pickup</th>\n",
       "      <th>longitude_of_dropoff</th>\n",
       "      <th>latitude_of_dropoff</th>\n",
       "      <th>no_of_passenger</th>\n",
       "    </tr>\n",
       "  </thead>\n",
       "  <tbody>\n",
       "    <tr>\n",
       "      <th>count</th>\n",
       "      <td>5000.000000</td>\n",
       "      <td>5000.000000</td>\n",
       "      <td>5000.000000</td>\n",
       "      <td>5000.000000</td>\n",
       "      <td>5000.000000</td>\n",
       "      <td>5000.000000</td>\n",
       "    </tr>\n",
       "    <tr>\n",
       "      <th>mean</th>\n",
       "      <td>11.296238</td>\n",
       "      <td>-72.426826</td>\n",
       "      <td>39.867237</td>\n",
       "      <td>-72.426130</td>\n",
       "      <td>39.875767</td>\n",
       "      <td>1.631000</td>\n",
       "    </tr>\n",
       "    <tr>\n",
       "      <th>std</th>\n",
       "      <td>9.710106</td>\n",
       "      <td>10.722381</td>\n",
       "      <td>6.351342</td>\n",
       "      <td>10.722293</td>\n",
       "      <td>6.326084</td>\n",
       "      <td>1.257122</td>\n",
       "    </tr>\n",
       "    <tr>\n",
       "      <th>min</th>\n",
       "      <td>-2.900000</td>\n",
       "      <td>-74.438233</td>\n",
       "      <td>-73.991840</td>\n",
       "      <td>-74.429332</td>\n",
       "      <td>-73.979010</td>\n",
       "      <td>0.000000</td>\n",
       "    </tr>\n",
       "    <tr>\n",
       "      <th>25%</th>\n",
       "      <td>6.000000</td>\n",
       "      <td>-73.992449</td>\n",
       "      <td>40.734045</td>\n",
       "      <td>-73.991349</td>\n",
       "      <td>40.734379</td>\n",
       "      <td>1.000000</td>\n",
       "    </tr>\n",
       "    <tr>\n",
       "      <th>50%</th>\n",
       "      <td>8.500000</td>\n",
       "      <td>-73.982069</td>\n",
       "      <td>40.752128</td>\n",
       "      <td>-73.980196</td>\n",
       "      <td>40.753512</td>\n",
       "      <td>1.000000</td>\n",
       "    </tr>\n",
       "    <tr>\n",
       "      <th>75%</th>\n",
       "      <td>12.500000</td>\n",
       "      <td>-73.967040</td>\n",
       "      <td>40.766890</td>\n",
       "      <td>-73.963589</td>\n",
       "      <td>40.767636</td>\n",
       "      <td>2.000000</td>\n",
       "    </tr>\n",
       "    <tr>\n",
       "      <th>max</th>\n",
       "      <td>180.000000</td>\n",
       "      <td>40.751582</td>\n",
       "      <td>41.366138</td>\n",
       "      <td>40.758867</td>\n",
       "      <td>41.032598</td>\n",
       "      <td>6.000000</td>\n",
       "    </tr>\n",
       "  </tbody>\n",
       "</table>\n",
       "</div>"
      ],
      "text/plain": [
       "            amount  longitude_of_pickup  latitude_of_pickup  \\\n",
       "count  5000.000000          5000.000000         5000.000000   \n",
       "mean     11.296238           -72.426826           39.867237   \n",
       "std       9.710106            10.722381            6.351342   \n",
       "min      -2.900000           -74.438233          -73.991840   \n",
       "25%       6.000000           -73.992449           40.734045   \n",
       "50%       8.500000           -73.982069           40.752128   \n",
       "75%      12.500000           -73.967040           40.766890   \n",
       "max     180.000000            40.751582           41.366138   \n",
       "\n",
       "       longitude_of_dropoff  latitude_of_dropoff  no_of_passenger  \n",
       "count           5000.000000          5000.000000      5000.000000  \n",
       "mean             -72.426130            39.875767         1.631000  \n",
       "std               10.722293             6.326084         1.257122  \n",
       "min              -74.429332           -73.979010         0.000000  \n",
       "25%              -73.991349            40.734379         1.000000  \n",
       "50%              -73.980196            40.753512         1.000000  \n",
       "75%              -73.963589            40.767636         2.000000  \n",
       "max               40.758867            41.032598         6.000000  "
      ]
     },
     "execution_count": 8,
     "metadata": {},
     "output_type": "execute_result"
    }
   ],
   "source": [
    "df.describe()"
   ]
  },
  {
   "cell_type": "code",
   "execution_count": 9,
   "id": "1a5caab0",
   "metadata": {},
   "outputs": [
    {
     "data": {
      "text/plain": [
       "unique_id                object\n",
       "amount                  float64\n",
       "date_time_of_pickup      object\n",
       "longitude_of_pickup     float64\n",
       "latitude_of_pickup      float64\n",
       "longitude_of_dropoff    float64\n",
       "latitude_of_dropoff     float64\n",
       "no_of_passenger           int64\n",
       "dtype: object"
      ]
     },
     "execution_count": 9,
     "metadata": {},
     "output_type": "execute_result"
    }
   ],
   "source": [
    "df.dtypes"
   ]
  },
  {
   "cell_type": "code",
   "execution_count": 10,
   "id": "904a5036",
   "metadata": {},
   "outputs": [
    {
     "data": {
      "text/plain": [
       "unique_id               0\n",
       "amount                  0\n",
       "date_time_of_pickup     0\n",
       "longitude_of_pickup     0\n",
       "latitude_of_pickup      0\n",
       "longitude_of_dropoff    0\n",
       "latitude_of_dropoff     0\n",
       "no_of_passenger         0\n",
       "dtype: int64"
      ]
     },
     "execution_count": 10,
     "metadata": {},
     "output_type": "execute_result"
    }
   ],
   "source": [
    "df.isnull().sum()"
   ]
  },
  {
   "cell_type": "code",
   "execution_count": null,
   "id": "ed93ced7",
   "metadata": {},
   "outputs": [],
   "source": [
    "## Data Analysis\n",
    "the given data is regression,because the given task of predicting a continuous quantity"
   ]
  },
  {
   "cell_type": "code",
   "execution_count": 232,
   "id": "d3701f67",
   "metadata": {},
   "outputs": [
    {
     "data": {
      "text/plain": [
       "<AxesSubplot:xlabel='amount', ylabel='count'>"
      ]
     },
     "execution_count": 232,
     "metadata": {},
     "output_type": "execute_result"
    },
    {
     "data": {
      "image/png": "[encoded data removed]",
      "text/plain": [
       "<Figure size 640x480 with 1 Axes>"
      ]
     },
     "metadata": {},
     "output_type": "display_data"
    }
   ],
   "source": [
    "sns.countplot(x=\"amount\",data=df)"
   ]
  },
  {
   "cell_type": "code",
   "execution_count": 235,
   "id": "0c879372",
   "metadata": {},
   "outputs": [
    {
     "data": {
      "text/plain": [
       "<AxesSubplot:xlabel='amount', ylabel='longitude_of_pickup'>"
      ]
     },
     "execution_count": 235,
     "metadata": {},
     "output_type": "execute_result"
    },
    {
     "data": {
      "image/png": "[encoded data removed]",
      "text/plain": [
       "<Figure size 640x480 with 1 Axes>"
      ]
     },
     "metadata": {},
     "output_type": "display_data"
    }
   ],
   "source": [
    "sns.boxplot(x=\"amount\",y=\"longitude_of_pickup\",data=df)"
   ]
  },
  {
   "cell_type": "code",
   "execution_count": 11,
   "id": "bb9d7944",
   "metadata": {},
   "outputs": [],
   "source": [
    "df=pd.get_dummies(df,columns=[\"unique_id\"])"
   ]
  },
  {
   "cell_type": "code",
   "execution_count": 12,
   "id": "299feb04",
   "metadata": {},
   "outputs": [],
   "source": [
    "df=pd.get_dummies(df,columns=[\"date_time_of_pickup\"])"
   ]
  },
  {
   "cell_type": "code",
   "execution_count": 13,
   "id": "234040fe",
   "metadata": {
    "scrolled": true
   },
   "outputs": [
    {
     "data": {
      "text/html": [
       "<div>\n",
       "<style scoped>\n",
       "    .dataframe tbody tr th:only-of-type {\n",
       "        vertical-align: middle;\n",
       "    }\n",
       "\n",
       "    .dataframe tbody tr th {\n",
       "        vertical-align: top;\n",
       "    }\n",
       "\n",
       "    .dataframe thead th {\n",
       "        text-align: right;\n",
       "    }\n",
       "</style>\n",
       "<table border=\"1\" class=\"dataframe\">\n",
       "  <thead>\n",
       "    <tr style=\"text-align: right;\">\n",
       "      <th></th>\n",
       "      <th>amount</th>\n",
       "      <th>longitude_of_pickup</th>\n",
       "      <th>latitude_of_pickup</th>\n",
       "      <th>longitude_of_dropoff</th>\n",
       "      <th>latitude_of_dropoff</th>\n",
       "      <th>no_of_passenger</th>\n",
       "      <th>unique_id_00:00.0</th>\n",
       "      <th>unique_id_00:01.0</th>\n",
       "      <th>unique_id_00:02.0</th>\n",
       "      <th>unique_id_00:07.0</th>\n",
       "      <th>...</th>\n",
       "      <th>date_time_of_pickup_2015-06-26 04:00:58 UTC</th>\n",
       "      <th>date_time_of_pickup_2015-06-26 06:54:20 UTC</th>\n",
       "      <th>date_time_of_pickup_2015-06-26 07:03:51 UTC</th>\n",
       "      <th>date_time_of_pickup_2015-06-27 02:56:01 UTC</th>\n",
       "      <th>date_time_of_pickup_2015-06-27 12:20:45 UTC</th>\n",
       "      <th>date_time_of_pickup_2015-06-27 13:12:00 UTC</th>\n",
       "      <th>date_time_of_pickup_2015-06-27 22:06:57 UTC</th>\n",
       "      <th>date_time_of_pickup_2015-06-28 19:50:21 UTC</th>\n",
       "      <th>date_time_of_pickup_2015-06-29 20:37:21 UTC</th>\n",
       "      <th>date_time_of_pickup_2015-06-30 22:42:39 UTC</th>\n",
       "    </tr>\n",
       "  </thead>\n",
       "  <tbody>\n",
       "    <tr>\n",
       "      <th>2058</th>\n",
       "      <td>13.00</td>\n",
       "      <td>-73.985229</td>\n",
       "      <td>40.768650</td>\n",
       "      <td>-73.994705</td>\n",
       "      <td>40.741325</td>\n",
       "      <td>1</td>\n",
       "      <td>0</td>\n",
       "      <td>0</td>\n",
       "      <td>0</td>\n",
       "      <td>0</td>\n",
       "      <td>...</td>\n",
       "      <td>0</td>\n",
       "      <td>0</td>\n",
       "      <td>0</td>\n",
       "      <td>0</td>\n",
       "      <td>0</td>\n",
       "      <td>0</td>\n",
       "      <td>0</td>\n",
       "      <td>0</td>\n",
       "      <td>0</td>\n",
       "      <td>0</td>\n",
       "    </tr>\n",
       "    <tr>\n",
       "      <th>4702</th>\n",
       "      <td>9.50</td>\n",
       "      <td>-74.004639</td>\n",
       "      <td>40.741638</td>\n",
       "      <td>-73.993332</td>\n",
       "      <td>40.762203</td>\n",
       "      <td>1</td>\n",
       "      <td>0</td>\n",
       "      <td>0</td>\n",
       "      <td>0</td>\n",
       "      <td>0</td>\n",
       "      <td>...</td>\n",
       "      <td>0</td>\n",
       "      <td>0</td>\n",
       "      <td>0</td>\n",
       "      <td>0</td>\n",
       "      <td>0</td>\n",
       "      <td>0</td>\n",
       "      <td>0</td>\n",
       "      <td>0</td>\n",
       "      <td>0</td>\n",
       "      <td>0</td>\n",
       "    </tr>\n",
       "    <tr>\n",
       "      <th>4154</th>\n",
       "      <td>9.70</td>\n",
       "      <td>-73.993468</td>\n",
       "      <td>40.752362</td>\n",
       "      <td>-73.966420</td>\n",
       "      <td>40.755857</td>\n",
       "      <td>1</td>\n",
       "      <td>0</td>\n",
       "      <td>0</td>\n",
       "      <td>0</td>\n",
       "      <td>0</td>\n",
       "      <td>...</td>\n",
       "      <td>0</td>\n",
       "      <td>0</td>\n",
       "      <td>0</td>\n",
       "      <td>0</td>\n",
       "      <td>0</td>\n",
       "      <td>0</td>\n",
       "      <td>0</td>\n",
       "      <td>0</td>\n",
       "      <td>0</td>\n",
       "      <td>0</td>\n",
       "    </tr>\n",
       "    <tr>\n",
       "      <th>398</th>\n",
       "      <td>33.83</td>\n",
       "      <td>-73.973305</td>\n",
       "      <td>40.756386</td>\n",
       "      <td>-73.872444</td>\n",
       "      <td>40.774307</td>\n",
       "      <td>1</td>\n",
       "      <td>0</td>\n",
       "      <td>0</td>\n",
       "      <td>0</td>\n",
       "      <td>0</td>\n",
       "      <td>...</td>\n",
       "      <td>0</td>\n",
       "      <td>0</td>\n",
       "      <td>0</td>\n",
       "      <td>0</td>\n",
       "      <td>0</td>\n",
       "      <td>0</td>\n",
       "      <td>0</td>\n",
       "      <td>0</td>\n",
       "      <td>0</td>\n",
       "      <td>0</td>\n",
       "    </tr>\n",
       "    <tr>\n",
       "      <th>1512</th>\n",
       "      <td>5.50</td>\n",
       "      <td>-73.983995</td>\n",
       "      <td>40.768815</td>\n",
       "      <td>-73.985765</td>\n",
       "      <td>40.777082</td>\n",
       "      <td>1</td>\n",
       "      <td>0</td>\n",
       "      <td>0</td>\n",
       "      <td>0</td>\n",
       "      <td>0</td>\n",
       "      <td>...</td>\n",
       "      <td>0</td>\n",
       "      <td>0</td>\n",
       "      <td>0</td>\n",
       "      <td>0</td>\n",
       "      <td>0</td>\n",
       "      <td>0</td>\n",
       "      <td>0</td>\n",
       "      <td>0</td>\n",
       "      <td>0</td>\n",
       "      <td>0</td>\n",
       "    </tr>\n",
       "    <tr>\n",
       "      <th>208</th>\n",
       "      <td>7.30</td>\n",
       "      <td>-73.994009</td>\n",
       "      <td>40.761440</td>\n",
       "      <td>-73.972811</td>\n",
       "      <td>40.792574</td>\n",
       "      <td>1</td>\n",
       "      <td>0</td>\n",
       "      <td>0</td>\n",
       "      <td>0</td>\n",
       "      <td>0</td>\n",
       "      <td>...</td>\n",
       "      <td>0</td>\n",
       "      <td>0</td>\n",
       "      <td>0</td>\n",
       "      <td>0</td>\n",
       "      <td>0</td>\n",
       "      <td>0</td>\n",
       "      <td>0</td>\n",
       "      <td>0</td>\n",
       "      <td>0</td>\n",
       "      <td>0</td>\n",
       "    </tr>\n",
       "    <tr>\n",
       "      <th>632</th>\n",
       "      <td>8.90</td>\n",
       "      <td>-73.989130</td>\n",
       "      <td>40.756668</td>\n",
       "      <td>-73.961070</td>\n",
       "      <td>40.757225</td>\n",
       "      <td>2</td>\n",
       "      <td>0</td>\n",
       "      <td>0</td>\n",
       "      <td>0</td>\n",
       "      <td>0</td>\n",
       "      <td>...</td>\n",
       "      <td>0</td>\n",
       "      <td>0</td>\n",
       "      <td>0</td>\n",
       "      <td>0</td>\n",
       "      <td>0</td>\n",
       "      <td>0</td>\n",
       "      <td>0</td>\n",
       "      <td>0</td>\n",
       "      <td>0</td>\n",
       "      <td>0</td>\n",
       "    </tr>\n",
       "    <tr>\n",
       "      <th>29</th>\n",
       "      <td>4.50</td>\n",
       "      <td>-73.981020</td>\n",
       "      <td>40.737760</td>\n",
       "      <td>-73.980668</td>\n",
       "      <td>40.730497</td>\n",
       "      <td>2</td>\n",
       "      <td>0</td>\n",
       "      <td>0</td>\n",
       "      <td>0</td>\n",
       "      <td>0</td>\n",
       "      <td>...</td>\n",
       "      <td>0</td>\n",
       "      <td>0</td>\n",
       "      <td>0</td>\n",
       "      <td>0</td>\n",
       "      <td>0</td>\n",
       "      <td>0</td>\n",
       "      <td>0</td>\n",
       "      <td>0</td>\n",
       "      <td>0</td>\n",
       "      <td>0</td>\n",
       "    </tr>\n",
       "    <tr>\n",
       "      <th>75</th>\n",
       "      <td>15.07</td>\n",
       "      <td>-73.961933</td>\n",
       "      <td>40.795585</td>\n",
       "      <td>-73.962253</td>\n",
       "      <td>40.764817</td>\n",
       "      <td>2</td>\n",
       "      <td>0</td>\n",
       "      <td>0</td>\n",
       "      <td>0</td>\n",
       "      <td>0</td>\n",
       "      <td>...</td>\n",
       "      <td>0</td>\n",
       "      <td>0</td>\n",
       "      <td>0</td>\n",
       "      <td>0</td>\n",
       "      <td>0</td>\n",
       "      <td>0</td>\n",
       "      <td>0</td>\n",
       "      <td>0</td>\n",
       "      <td>0</td>\n",
       "      <td>0</td>\n",
       "    </tr>\n",
       "    <tr>\n",
       "      <th>1627</th>\n",
       "      <td>13.70</td>\n",
       "      <td>-73.990040</td>\n",
       "      <td>40.757154</td>\n",
       "      <td>-74.009117</td>\n",
       "      <td>40.740486</td>\n",
       "      <td>1</td>\n",
       "      <td>0</td>\n",
       "      <td>0</td>\n",
       "      <td>0</td>\n",
       "      <td>0</td>\n",
       "      <td>...</td>\n",
       "      <td>0</td>\n",
       "      <td>0</td>\n",
       "      <td>0</td>\n",
       "      <td>0</td>\n",
       "      <td>0</td>\n",
       "      <td>0</td>\n",
       "      <td>0</td>\n",
       "      <td>0</td>\n",
       "      <td>0</td>\n",
       "      <td>0</td>\n",
       "    </tr>\n",
       "  </tbody>\n",
       "</table>\n",
       "<p>10 rows × 6994 columns</p>\n",
       "</div>"
      ],
      "text/plain": [
       "      amount  longitude_of_pickup  latitude_of_pickup  longitude_of_dropoff  \\\n",
       "2058   13.00           -73.985229           40.768650            -73.994705   \n",
       "4702    9.50           -74.004639           40.741638            -73.993332   \n",
       "4154    9.70           -73.993468           40.752362            -73.966420   \n",
       "398    33.83           -73.973305           40.756386            -73.872444   \n",
       "1512    5.50           -73.983995           40.768815            -73.985765   \n",
       "208     7.30           -73.994009           40.761440            -73.972811   \n",
       "632     8.90           -73.989130           40.756668            -73.961070   \n",
       "29      4.50           -73.981020           40.737760            -73.980668   \n",
       "75     15.07           -73.961933           40.795585            -73.962253   \n",
       "1627   13.70           -73.990040           40.757154            -74.009117   \n",
       "\n",
       "      latitude_of_dropoff  no_of_passenger  unique_id_00:00.0  \\\n",
       "2058            40.741325                1                  0   \n",
       "4702            40.762203                1                  0   \n",
       "4154            40.755857                1                  0   \n",
       "398             40.774307                1                  0   \n",
       "1512            40.777082                1                  0   \n",
       "208             40.792574                1                  0   \n",
       "632             40.757225                2                  0   \n",
       "29              40.730497                2                  0   \n",
       "75              40.764817                2                  0   \n",
       "1627            40.740486                1                  0   \n",
       "\n",
       "      unique_id_00:01.0  unique_id_00:02.0  unique_id_00:07.0  ...  \\\n",
       "2058                  0                  0                  0  ...   \n",
       "4702                  0                  0                  0  ...   \n",
       "4154                  0                  0                  0  ...   \n",
       "398                   0                  0                  0  ...   \n",
       "1512                  0                  0                  0  ...   \n",
       "208                   0                  0                  0  ...   \n",
       "632                   0                  0                  0  ...   \n",
       "29                    0                  0                  0  ...   \n",
       "75                    0                  0                  0  ...   \n",
       "1627                  0                  0                  0  ...   \n",
       "\n",
       "      date_time_of_pickup_2015-06-26 04:00:58 UTC  \\\n",
       "2058                                            0   \n",
       "4702                                            0   \n",
       "4154                                            0   \n",
       "398                                             0   \n",
       "1512                                            0   \n",
       "208                                             0   \n",
       "632                                             0   \n",
       "29                                              0   \n",
       "75                                              0   \n",
       "1627                                            0   \n",
       "\n",
       "      date_time_of_pickup_2015-06-26 06:54:20 UTC  \\\n",
       "2058                                            0   \n",
       "4702                                            0   \n",
       "4154                                            0   \n",
       "398                                             0   \n",
       "1512                                            0   \n",
       "208                                             0   \n",
       "632                                             0   \n",
       "29                                              0   \n",
       "75                                              0   \n",
       "1627                                            0   \n",
       "\n",
       "      date_time_of_pickup_2015-06-26 07:03:51 UTC  \\\n",
       "2058                                            0   \n",
       "4702                                            0   \n",
       "4154                                            0   \n",
       "398                                             0   \n",
       "1512                                            0   \n",
       "208                                             0   \n",
       "632                                             0   \n",
       "29                                              0   \n",
       "75                                              0   \n",
       "1627                                            0   \n",
       "\n",
       "      date_time_of_pickup_2015-06-27 02:56:01 UTC  \\\n",
       "2058                                            0   \n",
       "4702                                            0   \n",
       "4154                                            0   \n",
       "398                                             0   \n",
       "1512                                            0   \n",
       "208                                             0   \n",
       "632                                             0   \n",
       "29                                              0   \n",
       "75                                              0   \n",
       "1627                                            0   \n",
       "\n",
       "      date_time_of_pickup_2015-06-27 12:20:45 UTC  \\\n",
       "2058                                            0   \n",
       "4702                                            0   \n",
       "4154                                            0   \n",
       "398                                             0   \n",
       "1512                                            0   \n",
       "208                                             0   \n",
       "632                                             0   \n",
       "29                                              0   \n",
       "75                                              0   \n",
       "1627                                            0   \n",
       "\n",
       "      date_time_of_pickup_2015-06-27 13:12:00 UTC  \\\n",
       "2058                                            0   \n",
       "4702                                            0   \n",
       "4154                                            0   \n",
       "398                                             0   \n",
       "1512                                            0   \n",
       "208                                             0   \n",
       "632                                             0   \n",
       "29                                              0   \n",
       "75                                              0   \n",
       "1627                                            0   \n",
       "\n",
       "      date_time_of_pickup_2015-06-27 22:06:57 UTC  \\\n",
       "2058                                            0   \n",
       "4702                                            0   \n",
       "4154                                            0   \n",
       "398                                             0   \n",
       "1512                                            0   \n",
       "208                                             0   \n",
       "632                                             0   \n",
       "29                                              0   \n",
       "75                                              0   \n",
       "1627                                            0   \n",
       "\n",
       "      date_time_of_pickup_2015-06-28 19:50:21 UTC  \\\n",
       "2058                                            0   \n",
       "4702                                            0   \n",
       "4154                                            0   \n",
       "398                                             0   \n",
       "1512                                            0   \n",
       "208                                             0   \n",
       "632                                             0   \n",
       "29                                              0   \n",
       "75                                              0   \n",
       "1627                                            0   \n",
       "\n",
       "      date_time_of_pickup_2015-06-29 20:37:21 UTC  \\\n",
       "2058                                            0   \n",
       "4702                                            0   \n",
       "4154                                            0   \n",
       "398                                             0   \n",
       "1512                                            0   \n",
       "208                                             0   \n",
       "632                                             0   \n",
       "29                                              0   \n",
       "75                                              0   \n",
       "1627                                            0   \n",
       "\n",
       "      date_time_of_pickup_2015-06-30 22:42:39 UTC  \n",
       "2058                                            0  \n",
       "4702                                            0  \n",
       "4154                                            0  \n",
       "398                                             0  \n",
       "1512                                            0  \n",
       "208                                             0  \n",
       "632                                             0  \n",
       "29                                              0  \n",
       "75                                              0  \n",
       "1627                                            0  \n",
       "\n",
       "[10 rows x 6994 columns]"
      ]
     },
     "execution_count": 13,
     "metadata": {},
     "output_type": "execute_result"
    }
   ],
   "source": [
    "df.sample(10)"
   ]
  },
  {
   "cell_type": "code",
   "execution_count": 14,
   "id": "b6646630",
   "metadata": {},
   "outputs": [
    {
     "name": "stdout",
     "output_type": "stream",
     "text": [
      "0\n"
     ]
    }
   ],
   "source": [
    "duplicate=df.duplicated()\n",
    "\n",
    "\n",
    "print(duplicate.sum())"
   ]
  },
  {
   "cell_type": "code",
   "execution_count": 55,
   "id": "7ffdf2e7",
   "metadata": {
    "scrolled": true
   },
   "outputs": [
    {
     "data": {
      "text/plain": [
       "amount                                         float64\n",
       "longitude_of_pickup                            float64\n",
       "latitude_of_pickup                             float64\n",
       "longitude_of_dropoff                           float64\n",
       "latitude_of_dropoff                            float64\n",
       "                                                ...   \n",
       "date_time_of_pickup_2015-06-27 13:12:00 UTC      uint8\n",
       "date_time_of_pickup_2015-06-27 22:06:57 UTC      uint8\n",
       "date_time_of_pickup_2015-06-28 19:50:21 UTC      uint8\n",
       "date_time_of_pickup_2015-06-29 20:37:21 UTC      uint8\n",
       "date_time_of_pickup_2015-06-30 22:42:39 UTC      uint8\n",
       "Length: 6994, dtype: object"
      ]
     },
     "execution_count": 55,
     "metadata": {},
     "output_type": "execute_result"
    }
   ],
   "source": [
    "df.dtypes"
   ]
  },
  {
   "cell_type": "code",
   "execution_count": null,
   "id": "f2ea042f",
   "metadata": {},
   "outputs": [],
   "source": [
    "## LINEAR REGRESSION\n",
    "linear regression is a linear approach for modelling the relationship between a scalar response and one or more explanatory variables "
   ]
  },
  {
   "cell_type": "code",
   "execution_count": 57,
   "id": "207fa5ed",
   "metadata": {},
   "outputs": [],
   "source": [
    "x=df.drop([\"amount\"],axis=1)"
   ]
  },
  {
   "cell_type": "code",
   "execution_count": 58,
   "id": "9df59c22",
   "metadata": {},
   "outputs": [],
   "source": [
    "y=df[[\"amount\"]]"
   ]
  },
  {
   "cell_type": "code",
   "execution_count": 59,
   "id": "96ac603b",
   "metadata": {},
   "outputs": [],
   "source": [
    "x_train,x_test,y_train,y_test=train_test_split(x,y,test_size=0.30,random_state=1)"
   ]
  },
  {
   "cell_type": "code",
   "execution_count": 60,
   "id": "174045c2",
   "metadata": {},
   "outputs": [],
   "source": [
    "model_1=LinearRegression()"
   ]
  },
  {
   "cell_type": "code",
   "execution_count": 61,
   "id": "7f206b47",
   "metadata": {},
   "outputs": [
    {
     "data": {
      "text/plain": [
       "LinearRegression()"
      ]
     },
     "execution_count": 61,
     "metadata": {},
     "output_type": "execute_result"
    }
   ],
   "source": [
    "model_1.fit(x_train,y_train)"
   ]
  },
  {
   "cell_type": "code",
   "execution_count": 62,
   "id": "acc48453",
   "metadata": {},
   "outputs": [
    {
     "data": {
      "text/plain": [
       "-2873053.0342767616"
      ]
     },
     "execution_count": 62,
     "metadata": {},
     "output_type": "execute_result"
    }
   ],
   "source": [
    "model_1.score(x_test,y_test)"
   ]
  },
  {
   "cell_type": "code",
   "execution_count": 63,
   "id": "e6123b7c",
   "metadata": {},
   "outputs": [
    {
     "data": {
      "text/plain": [
       "1.0"
      ]
     },
     "execution_count": 63,
     "metadata": {},
     "output_type": "execute_result"
    }
   ],
   "source": [
    "model_1.score(x_train,y_train)"
   ]
  },
  {
   "cell_type": "code",
   "execution_count": 84,
   "id": "b5a3f248",
   "metadata": {},
   "outputs": [],
   "source": [
    "from sklearn.model_selection import cross_val_score"
   ]
  },
  {
   "cell_type": "code",
   "execution_count": 93,
   "id": "d135d716",
   "metadata": {},
   "outputs": [],
   "source": [
    "v=cross_val_score(model_1,x_train,y_train,scoring=\"neg_mean_squared_error\",cv=5)"
   ]
  },
  {
   "cell_type": "code",
   "execution_count": 94,
   "id": "bf9b904e",
   "metadata": {},
   "outputs": [
    {
     "data": {
      "text/plain": [
       "-1537670.9193117179"
      ]
     },
     "execution_count": 94,
     "metadata": {},
     "output_type": "execute_result"
    }
   ],
   "source": [
    "np.mean(v)"
   ]
  },
  {
   "cell_type": "code",
   "execution_count": 96,
   "id": "24c3964d",
   "metadata": {},
   "outputs": [],
   "source": [
    "reg_pred=model_1.predict(x_test)"
   ]
  },
  {
   "cell_type": "code",
   "execution_count": 127,
   "id": "58691e17",
   "metadata": {},
   "outputs": [
    {
     "data": {
      "text/plain": [
       "array([[ 91302.16123203],\n",
       "       [ 51753.09974649],\n",
       "       [ 91219.72867661],\n",
       "       ...,\n",
       "       [ 91281.10752238],\n",
       "       [ 80348.66476316],\n",
       "       [122545.78386211]])"
      ]
     },
     "execution_count": 127,
     "metadata": {},
     "output_type": "execute_result"
    }
   ],
   "source": [
    "reg_pred"
   ]
  },
  {
   "cell_type": "code",
   "execution_count": null,
   "id": "c5ec6527",
   "metadata": {},
   "outputs": [],
   "source": [
    "## KNEIGHBORSREGRESSOR"
   ]
  },
  {
   "cell_type": "code",
   "execution_count": 100,
   "id": "e1082747",
   "metadata": {},
   "outputs": [],
   "source": [
    "from sklearn.metrics import mean_squared_error"
   ]
  },
  {
   "cell_type": "code",
   "execution_count": 101,
   "id": "86d79eaa",
   "metadata": {},
   "outputs": [],
   "source": [
    "classifier=KNeighborsRegressor(11)"
   ]
  },
  {
   "cell_type": "code",
   "execution_count": 102,
   "id": "02673e24",
   "metadata": {},
   "outputs": [
    {
     "data": {
      "text/plain": [
       "KNeighborsRegressor(n_neighbors=11)"
      ]
     },
     "execution_count": 102,
     "metadata": {},
     "output_type": "execute_result"
    }
   ],
   "source": [
    "classifier.fit(x_train,y_train)"
   ]
  },
  {
   "cell_type": "code",
   "execution_count": 103,
   "id": "9cc8f172",
   "metadata": {},
   "outputs": [],
   "source": [
    "y_pred=classifier.predict(x_test)"
   ]
  },
  {
   "cell_type": "code",
   "execution_count": 105,
   "id": "bf6274ec",
   "metadata": {},
   "outputs": [
    {
     "data": {
      "text/plain": [
       "array([[13.41818182],\n",
       "       [14.        ],\n",
       "       [13.38181818],\n",
       "       ...,\n",
       "       [13.41818182],\n",
       "       [13.12727273],\n",
       "       [13.38181818]])"
      ]
     },
     "execution_count": 105,
     "metadata": {},
     "output_type": "execute_result"
    }
   ],
   "source": [
    "y_pred"
   ]
  },
  {
   "cell_type": "code",
   "execution_count": 104,
   "id": "fce12bac",
   "metadata": {},
   "outputs": [
    {
     "name": "stdout",
     "output_type": "stream",
     "text": [
      "80.3092887168044\n"
     ]
    }
   ],
   "source": [
    "print(mean_squared_error(y_test,y_pred))"
   ]
  },
  {
   "cell_type": "code",
   "execution_count": 107,
   "id": "3d8b7e25",
   "metadata": {},
   "outputs": [],
   "source": [
    "classifier=KNeighborsRegressor(5)"
   ]
  },
  {
   "cell_type": "code",
   "execution_count": 108,
   "id": "9511582f",
   "metadata": {},
   "outputs": [
    {
     "data": {
      "text/plain": [
       "KNeighborsRegressor()"
      ]
     },
     "execution_count": 108,
     "metadata": {},
     "output_type": "execute_result"
    }
   ],
   "source": [
    "classifier.fit(x_train,y_train)"
   ]
  },
  {
   "cell_type": "code",
   "execution_count": 109,
   "id": "75e2f02c",
   "metadata": {},
   "outputs": [],
   "source": [
    "y_pred=classifier.predict(x_test)"
   ]
  },
  {
   "cell_type": "code",
   "execution_count": 110,
   "id": "47754f8d",
   "metadata": {},
   "outputs": [
    {
     "data": {
      "text/plain": [
       "array([[17.26],\n",
       "       [11.96],\n",
       "       [11.96],\n",
       "       ...,\n",
       "       [17.26],\n",
       "       [11.96],\n",
       "       [11.96]])"
      ]
     },
     "execution_count": 110,
     "metadata": {},
     "output_type": "execute_result"
    }
   ],
   "source": [
    "y_pred"
   ]
  },
  {
   "cell_type": "code",
   "execution_count": 111,
   "id": "5c0f5f90",
   "metadata": {},
   "outputs": [
    {
     "name": "stdout",
     "output_type": "stream",
     "text": [
      "82.76712026666665\n"
     ]
    }
   ],
   "source": [
    "print(mean_squared_error(y_test,y_pred))"
   ]
  },
  {
   "cell_type": "code",
   "execution_count": 122,
   "id": "72b84610",
   "metadata": {},
   "outputs": [],
   "source": [
    "classifier=KNeighborsRegressor(95)"
   ]
  },
  {
   "cell_type": "code",
   "execution_count": 123,
   "id": "822111a8",
   "metadata": {},
   "outputs": [
    {
     "data": {
      "text/plain": [
       "KNeighborsRegressor(n_neighbors=95)"
      ]
     },
     "execution_count": 123,
     "metadata": {},
     "output_type": "execute_result"
    }
   ],
   "source": [
    "classifier.fit(x_train,y_train)"
   ]
  },
  {
   "cell_type": "code",
   "execution_count": 124,
   "id": "4779ce1a",
   "metadata": {},
   "outputs": [],
   "source": [
    "y_pred=classifier.predict(x_test)"
   ]
  },
  {
   "cell_type": "code",
   "execution_count": 125,
   "id": "70373f20",
   "metadata": {},
   "outputs": [
    {
     "data": {
      "text/plain": [
       "array([[11.80568421],\n",
       "       [12.65442105],\n",
       "       [12.41231579],\n",
       "       ...,\n",
       "       [11.77621053],\n",
       "       [11.59621053],\n",
       "       [12.47126316]])"
      ]
     },
     "execution_count": 125,
     "metadata": {},
     "output_type": "execute_result"
    }
   ],
   "source": [
    "y_pred"
   ]
  },
  {
   "cell_type": "code",
   "execution_count": 126,
   "id": "b6722d62",
   "metadata": {},
   "outputs": [
    {
     "name": "stdout",
     "output_type": "stream",
     "text": [
      "75.25080011282733\n"
     ]
    }
   ],
   "source": [
    "print(mean_squared_error(y_test,y_pred))"
   ]
  },
  {
   "cell_type": "code",
   "execution_count": null,
   "id": "33c2dcb4",
   "metadata": {},
   "outputs": [],
   "source": [
    "## SUPPORT VECTOR REGRESSION"
   ]
  },
  {
   "cell_type": "code",
   "execution_count": 128,
   "id": "2f4f90ae",
   "metadata": {},
   "outputs": [],
   "source": [
    "from sklearn.svm import SVR"
   ]
  },
  {
   "cell_type": "code",
   "execution_count": 132,
   "id": "240c52fd",
   "metadata": {},
   "outputs": [],
   "source": [
    "model_2=SVR().fit(x_train,y_train)"
   ]
  },
  {
   "cell_type": "code",
   "execution_count": 133,
   "id": "1b0c4085",
   "metadata": {},
   "outputs": [
    {
     "data": {
      "text/plain": [
       "SVR()"
      ]
     },
     "execution_count": 133,
     "metadata": {},
     "output_type": "execute_result"
    }
   ],
   "source": [
    "model_2"
   ]
  },
  {
   "cell_type": "code",
   "execution_count": 139,
   "id": "ae0960c2",
   "metadata": {},
   "outputs": [],
   "source": [
    "y_pred=model_2.predict(x_test)"
   ]
  },
  {
   "cell_type": "code",
   "execution_count": 140,
   "id": "8d1b7dbb",
   "metadata": {},
   "outputs": [
    {
     "data": {
      "text/plain": [
       "array([8.48807419, 8.68357657, 8.48804134, ..., 8.48805784, 8.35185039,\n",
       "       8.48796183])"
      ]
     },
     "execution_count": 140,
     "metadata": {},
     "output_type": "execute_result"
    }
   ],
   "source": [
    "y_pred"
   ]
  },
  {
   "cell_type": "code",
   "execution_count": 141,
   "id": "4ac79a63",
   "metadata": {},
   "outputs": [
    {
     "name": "stdout",
     "output_type": "stream",
     "text": [
      "81.36344095145441\n"
     ]
    }
   ],
   "source": [
    "print(mean_squared_error(y_test,y_pred))"
   ]
  },
  {
   "cell_type": "code",
   "execution_count": null,
   "id": "5928ee33",
   "metadata": {},
   "outputs": [],
   "source": [
    "###DECISION TREE REGRESSOR"
   ]
  },
  {
   "cell_type": "code",
   "execution_count": 142,
   "id": "3ca0788e",
   "metadata": {},
   "outputs": [],
   "source": [
    "from sklearn.tree import DecisionTreeRegressor"
   ]
  },
  {
   "cell_type": "code",
   "execution_count": 143,
   "id": "e271bf33",
   "metadata": {},
   "outputs": [],
   "source": [
    "model_3 = DecisionTreeRegressor(max_depth=2)"
   ]
  },
  {
   "cell_type": "code",
   "execution_count": 144,
   "id": "6b5841bf",
   "metadata": {},
   "outputs": [
    {
     "data": {
      "text/plain": [
       "DecisionTreeRegressor(max_depth=2)"
      ]
     },
     "execution_count": 144,
     "metadata": {},
     "output_type": "execute_result"
    }
   ],
   "source": [
    "model_3"
   ]
  },
  {
   "cell_type": "code",
   "execution_count": 145,
   "id": "e7f8c58d",
   "metadata": {},
   "outputs": [
    {
     "data": {
      "text/plain": [
       "DecisionTreeRegressor(max_depth=2)"
      ]
     },
     "execution_count": 145,
     "metadata": {},
     "output_type": "execute_result"
    }
   ],
   "source": [
    "model_3.fit(x_train,y_train)"
   ]
  },
  {
   "cell_type": "code",
   "execution_count": 146,
   "id": "67c4e4ce",
   "metadata": {},
   "outputs": [
    {
     "data": {
      "text/plain": [
       "0.37140644768192166"
      ]
     },
     "execution_count": 146,
     "metadata": {},
     "output_type": "execute_result"
    }
   ],
   "source": [
    "model_3.score(x_train,y_train)"
   ]
  },
  {
   "cell_type": "code",
   "execution_count": 147,
   "id": "b1832581",
   "metadata": {},
   "outputs": [
    {
     "data": {
      "text/plain": [
       "-0.0849901057713518"
      ]
     },
     "execution_count": 147,
     "metadata": {},
     "output_type": "execute_result"
    }
   ],
   "source": [
    "model_3.score(x_test,y_test)"
   ]
  },
  {
   "cell_type": "code",
   "execution_count": 148,
   "id": "a6093b84",
   "metadata": {},
   "outputs": [
    {
     "data": {
      "text/plain": [
       "DecisionTreeRegressor(max_depth=5)"
      ]
     },
     "execution_count": 148,
     "metadata": {},
     "output_type": "execute_result"
    }
   ],
   "source": [
    "model_4 = DecisionTreeRegressor(max_depth=5)\n",
    "model_4"
   ]
  },
  {
   "cell_type": "code",
   "execution_count": 150,
   "id": "169d8832",
   "metadata": {},
   "outputs": [
    {
     "data": {
      "text/plain": [
       "DecisionTreeRegressor(max_depth=5)"
      ]
     },
     "execution_count": 150,
     "metadata": {},
     "output_type": "execute_result"
    }
   ],
   "source": [
    "model_4.fit(x_train,y_train)"
   ]
  },
  {
   "cell_type": "code",
   "execution_count": 151,
   "id": "f48116d3",
   "metadata": {},
   "outputs": [
    {
     "data": {
      "text/plain": [
       "0.7162199543458225"
      ]
     },
     "execution_count": 151,
     "metadata": {},
     "output_type": "execute_result"
    }
   ],
   "source": [
    "model_4.score(x_train,y_train)"
   ]
  },
  {
   "cell_type": "code",
   "execution_count": 152,
   "id": "ce5d27da",
   "metadata": {},
   "outputs": [
    {
     "data": {
      "text/plain": [
       "-46.37314094427068"
      ]
     },
     "execution_count": 152,
     "metadata": {},
     "output_type": "execute_result"
    }
   ],
   "source": [
    "model_4.score(x_test,y_test)"
   ]
  },
  {
   "cell_type": "code",
   "execution_count": 153,
   "id": "3bdc86b4",
   "metadata": {},
   "outputs": [],
   "source": [
    "model_5 = DecisionTreeRegressor(max_depth=19)"
   ]
  },
  {
   "cell_type": "code",
   "execution_count": 154,
   "id": "12e34192",
   "metadata": {},
   "outputs": [
    {
     "data": {
      "text/plain": [
       "DecisionTreeRegressor(max_depth=19)"
      ]
     },
     "execution_count": 154,
     "metadata": {},
     "output_type": "execute_result"
    }
   ],
   "source": [
    "model_5"
   ]
  },
  {
   "cell_type": "code",
   "execution_count": 155,
   "id": "42963fae",
   "metadata": {},
   "outputs": [
    {
     "data": {
      "text/plain": [
       "DecisionTreeRegressor(max_depth=19)"
      ]
     },
     "execution_count": 155,
     "metadata": {},
     "output_type": "execute_result"
    }
   ],
   "source": [
    "model_5.fit(x_train,y_train)"
   ]
  },
  {
   "cell_type": "code",
   "execution_count": 156,
   "id": "f3846465",
   "metadata": {},
   "outputs": [
    {
     "data": {
      "text/plain": [
       "0.9377085134648229"
      ]
     },
     "execution_count": 156,
     "metadata": {},
     "output_type": "execute_result"
    }
   ],
   "source": [
    "model_5.score(x_train,y_train)"
   ]
  },
  {
   "cell_type": "code",
   "execution_count": 157,
   "id": "2309f90b",
   "metadata": {},
   "outputs": [
    {
     "data": {
      "text/plain": [
       "-36.18520782779369"
      ]
     },
     "execution_count": 157,
     "metadata": {},
     "output_type": "execute_result"
    }
   ],
   "source": [
    "model_5.score(x_test,y_test)"
   ]
  },
  {
   "cell_type": "code",
   "execution_count": null,
   "id": "7928a74c",
   "metadata": {},
   "outputs": [],
   "source": [
    "## BAGGING REGRESSOR"
   ]
  },
  {
   "cell_type": "code",
   "execution_count": 162,
   "id": "e4770972",
   "metadata": {},
   "outputs": [],
   "source": [
    "from sklearn.ensemble import BaggingRegressor"
   ]
  },
  {
   "cell_type": "code",
   "execution_count": 163,
   "id": "4fe40fd8",
   "metadata": {},
   "outputs": [],
   "source": [
    "model_6=BaggingRegressor()"
   ]
  },
  {
   "cell_type": "code",
   "execution_count": 164,
   "id": "f263ca49",
   "metadata": {},
   "outputs": [
    {
     "data": {
      "text/plain": [
       "BaggingRegressor()"
      ]
     },
     "execution_count": 164,
     "metadata": {},
     "output_type": "execute_result"
    }
   ],
   "source": [
    "model_6.fit(x_train,y_train)"
   ]
  },
  {
   "cell_type": "code",
   "execution_count": 165,
   "id": "a18bd101",
   "metadata": {},
   "outputs": [
    {
     "data": {
      "text/plain": [
       "0.955838696560374"
      ]
     },
     "execution_count": 165,
     "metadata": {},
     "output_type": "execute_result"
    }
   ],
   "source": [
    "model_6.score(x_train,y_train)"
   ]
  },
  {
   "cell_type": "code",
   "execution_count": 166,
   "id": "fdf2189a",
   "metadata": {},
   "outputs": [
    {
     "data": {
      "text/plain": [
       "-17.07320213273574"
      ]
     },
     "execution_count": 166,
     "metadata": {},
     "output_type": "execute_result"
    }
   ],
   "source": [
    "model_6.score(x_test,y_test)"
   ]
  },
  {
   "cell_type": "code",
   "execution_count": 167,
   "id": "b6b39485",
   "metadata": {},
   "outputs": [],
   "source": [
    "model_7=BaggingRegressor(n_estimators=60)"
   ]
  },
  {
   "cell_type": "code",
   "execution_count": 168,
   "id": "57945a35",
   "metadata": {},
   "outputs": [
    {
     "data": {
      "text/plain": [
       "BaggingRegressor(n_estimators=60)"
      ]
     },
     "execution_count": 168,
     "metadata": {},
     "output_type": "execute_result"
    }
   ],
   "source": [
    "model_7.fit(x_train,y_train)"
   ]
  },
  {
   "cell_type": "code",
   "execution_count": 170,
   "id": "dcdf9740",
   "metadata": {},
   "outputs": [
    {
     "data": {
      "text/plain": [
       "0.9587285118571454"
      ]
     },
     "execution_count": 170,
     "metadata": {},
     "output_type": "execute_result"
    }
   ],
   "source": [
    "model_7.score(x_train,y_train)"
   ]
  },
  {
   "cell_type": "code",
   "execution_count": 171,
   "id": "a8ea4209",
   "metadata": {},
   "outputs": [
    {
     "data": {
      "text/plain": [
       "-12.977241448040468"
      ]
     },
     "execution_count": 171,
     "metadata": {},
     "output_type": "execute_result"
    }
   ],
   "source": [
    "model_7.score(x_test,y_test)"
   ]
  },
  {
   "cell_type": "code",
   "execution_count": 172,
   "id": "047c0893",
   "metadata": {},
   "outputs": [],
   "source": [
    "model_8=BaggingRegressor(n_estimators=85)"
   ]
  },
  {
   "cell_type": "code",
   "execution_count": 173,
   "id": "ca369164",
   "metadata": {},
   "outputs": [
    {
     "data": {
      "text/plain": [
       "BaggingRegressor(n_estimators=85)"
      ]
     },
     "execution_count": 173,
     "metadata": {},
     "output_type": "execute_result"
    }
   ],
   "source": [
    "model_8.fit(x_train,y_train)"
   ]
  },
  {
   "cell_type": "code",
   "execution_count": 174,
   "id": "64f8ae64",
   "metadata": {},
   "outputs": [
    {
     "data": {
      "text/plain": [
       "0.9617387030522108"
      ]
     },
     "execution_count": 174,
     "metadata": {},
     "output_type": "execute_result"
    }
   ],
   "source": [
    "model_8.score(x_train,y_train)"
   ]
  },
  {
   "cell_type": "code",
   "execution_count": 175,
   "id": "3de03e57",
   "metadata": {},
   "outputs": [
    {
     "data": {
      "text/plain": [
       "-16.82737448675322"
      ]
     },
     "execution_count": 175,
     "metadata": {},
     "output_type": "execute_result"
    }
   ],
   "source": [
    "model_8.score(x_test,y_test)"
   ]
  },
  {
   "cell_type": "code",
   "execution_count": null,
   "id": "c19bbf0b",
   "metadata": {},
   "outputs": [],
   "source": [
    "## ADA BOOSTING REGRESSOR"
   ]
  },
  {
   "cell_type": "code",
   "execution_count": 176,
   "id": "0407e3dc",
   "metadata": {},
   "outputs": [],
   "source": [
    "from sklearn.ensemble import AdaBoostRegressor"
   ]
  },
  {
   "cell_type": "code",
   "execution_count": 177,
   "id": "14b8f825",
   "metadata": {},
   "outputs": [],
   "source": [
    "model_9=AdaBoostRegressor()"
   ]
  },
  {
   "cell_type": "code",
   "execution_count": 178,
   "id": "b22c40db",
   "metadata": {},
   "outputs": [
    {
     "data": {
      "text/plain": [
       "AdaBoostRegressor()"
      ]
     },
     "execution_count": 178,
     "metadata": {},
     "output_type": "execute_result"
    }
   ],
   "source": [
    "model_9.fit(x_train,y_train)"
   ]
  },
  {
   "cell_type": "code",
   "execution_count": 179,
   "id": "bf9e797b",
   "metadata": {},
   "outputs": [
    {
     "data": {
      "text/plain": [
       "-0.9128768095814384"
      ]
     },
     "execution_count": 179,
     "metadata": {},
     "output_type": "execute_result"
    }
   ],
   "source": [
    "model_9.score(x_train,y_train)"
   ]
  },
  {
   "cell_type": "code",
   "execution_count": 180,
   "id": "04ab6f7f",
   "metadata": {},
   "outputs": [
    {
     "data": {
      "text/plain": [
       "-5.570058434461063"
      ]
     },
     "execution_count": 180,
     "metadata": {},
     "output_type": "execute_result"
    }
   ],
   "source": [
    "model_9.score(x_test,y_test)"
   ]
  },
  {
   "cell_type": "code",
   "execution_count": 181,
   "id": "3f2f531f",
   "metadata": {},
   "outputs": [],
   "source": [
    "model_10=AdaBoostRegressor(n_estimators=60)"
   ]
  },
  {
   "cell_type": "code",
   "execution_count": 182,
   "id": "2e7d1e4d",
   "metadata": {},
   "outputs": [
    {
     "data": {
      "text/plain": [
       "AdaBoostRegressor(n_estimators=60)"
      ]
     },
     "execution_count": 182,
     "metadata": {},
     "output_type": "execute_result"
    }
   ],
   "source": [
    "model_10.fit(x_train,y_train)"
   ]
  },
  {
   "cell_type": "code",
   "execution_count": 183,
   "id": "b2a673b2",
   "metadata": {},
   "outputs": [
    {
     "data": {
      "text/plain": [
       "0.5373008373617625"
      ]
     },
     "execution_count": 183,
     "metadata": {},
     "output_type": "execute_result"
    }
   ],
   "source": [
    "model_10.score(x_train,y_train)"
   ]
  },
  {
   "cell_type": "code",
   "execution_count": 184,
   "id": "706ee1f0",
   "metadata": {},
   "outputs": [
    {
     "data": {
      "text/plain": [
       "-0.5140087958743982"
      ]
     },
     "execution_count": 184,
     "metadata": {},
     "output_type": "execute_result"
    }
   ],
   "source": [
    "model_10.score(x_test,y_test)"
   ]
  },
  {
   "cell_type": "code",
   "execution_count": null,
   "id": "542294b9",
   "metadata": {},
   "outputs": [],
   "source": [
    "## GRADIENT BOOSTING REGRESSOR"
   ]
  },
  {
   "cell_type": "code",
   "execution_count": 185,
   "id": "4433c76c",
   "metadata": {},
   "outputs": [],
   "source": [
    "from sklearn.ensemble import GradientBoostingRegressor"
   ]
  },
  {
   "cell_type": "code",
   "execution_count": 186,
   "id": "4b6624c7",
   "metadata": {},
   "outputs": [],
   "source": [
    "model_11=GradientBoostingRegressor()"
   ]
  },
  {
   "cell_type": "code",
   "execution_count": 187,
   "id": "c8da7f01",
   "metadata": {},
   "outputs": [
    {
     "data": {
      "text/plain": [
       "GradientBoostingRegressor()"
      ]
     },
     "execution_count": 187,
     "metadata": {},
     "output_type": "execute_result"
    }
   ],
   "source": [
    "model_11.fit(x_train,y_train)"
   ]
  },
  {
   "cell_type": "code",
   "execution_count": 188,
   "id": "76ff2c41",
   "metadata": {},
   "outputs": [
    {
     "data": {
      "text/plain": [
       "0.8094093401960635"
      ]
     },
     "execution_count": 188,
     "metadata": {},
     "output_type": "execute_result"
    }
   ],
   "source": [
    "model_11.score(x_train,y_train)"
   ]
  },
  {
   "cell_type": "code",
   "execution_count": 189,
   "id": "7a7f5c3b",
   "metadata": {},
   "outputs": [
    {
     "data": {
      "text/plain": [
       "-11.0459623794091"
      ]
     },
     "execution_count": 189,
     "metadata": {},
     "output_type": "execute_result"
    }
   ],
   "source": [
    "model_11.score(x_test,y_test)"
   ]
  },
  {
   "cell_type": "code",
   "execution_count": 197,
   "id": "2ae52e46",
   "metadata": {},
   "outputs": [],
   "source": [
    "model_12=GradientBoostingRegressor(max_depth=8)"
   ]
  },
  {
   "cell_type": "code",
   "execution_count": 198,
   "id": "c9959cbb",
   "metadata": {},
   "outputs": [
    {
     "data": {
      "text/plain": [
       "GradientBoostingRegressor(max_depth=8)"
      ]
     },
     "execution_count": 198,
     "metadata": {},
     "output_type": "execute_result"
    }
   ],
   "source": [
    "model_12.fit(x_train,y_train)"
   ]
  },
  {
   "cell_type": "code",
   "execution_count": 199,
   "id": "da2f46e6",
   "metadata": {},
   "outputs": [
    {
     "data": {
      "text/plain": [
       "0.9561862052562529"
      ]
     },
     "execution_count": 199,
     "metadata": {},
     "output_type": "execute_result"
    }
   ],
   "source": [
    "model_12.score(x_train,y_train)"
   ]
  },
  {
   "cell_type": "code",
   "execution_count": 200,
   "id": "4e2c9e53",
   "metadata": {},
   "outputs": [
    {
     "data": {
      "text/plain": [
       "-27.762674454446667"
      ]
     },
     "execution_count": 200,
     "metadata": {},
     "output_type": "execute_result"
    }
   ],
   "source": [
    "model_12.score(x_test,y_test)"
   ]
  },
  {
   "cell_type": "code",
   "execution_count": null,
   "id": "e2291392",
   "metadata": {},
   "outputs": [],
   "source": [
    "## RANDOM FOREST REGRESSOR"
   ]
  },
  {
   "cell_type": "code",
   "execution_count": 201,
   "id": "9b29649d",
   "metadata": {},
   "outputs": [],
   "source": [
    "from sklearn.ensemble import RandomForestRegressor"
   ]
  },
  {
   "cell_type": "code",
   "execution_count": 202,
   "id": "a9f8e2bd",
   "metadata": {},
   "outputs": [],
   "source": [
    "model_13=RandomForestRegressor()"
   ]
  },
  {
   "cell_type": "code",
   "execution_count": 203,
   "id": "48b77e28",
   "metadata": {},
   "outputs": [
    {
     "data": {
      "text/plain": [
       "RandomForestRegressor()"
      ]
     },
     "execution_count": 203,
     "metadata": {},
     "output_type": "execute_result"
    }
   ],
   "source": [
    "model_13.fit(x_train,y_train)"
   ]
  },
  {
   "cell_type": "code",
   "execution_count": 204,
   "id": "2c95ed93",
   "metadata": {},
   "outputs": [
    {
     "data": {
      "text/plain": [
       "0.9571676446938477"
      ]
     },
     "execution_count": 204,
     "metadata": {},
     "output_type": "execute_result"
    }
   ],
   "source": [
    "model_13.score(x_train,y_train)"
   ]
  },
  {
   "cell_type": "code",
   "execution_count": 205,
   "id": "56d0fdbd",
   "metadata": {},
   "outputs": [
    {
     "data": {
      "text/plain": [
       "-16.716946620431862"
      ]
     },
     "execution_count": 205,
     "metadata": {},
     "output_type": "execute_result"
    }
   ],
   "source": [
    "model_13.score(x_test,y_test)"
   ]
  },
  {
   "cell_type": "code",
   "execution_count": 206,
   "id": "68a7f4a8",
   "metadata": {},
   "outputs": [],
   "source": [
    "model_14=GradientBoostingRegressor(max_depth=7)"
   ]
  },
  {
   "cell_type": "code",
   "execution_count": 207,
   "id": "c6d88968",
   "metadata": {},
   "outputs": [
    {
     "data": {
      "text/plain": [
       "GradientBoostingRegressor(max_depth=7)"
      ]
     },
     "execution_count": 207,
     "metadata": {},
     "output_type": "execute_result"
    }
   ],
   "source": [
    "model_14.fit(x_train,y_train)"
   ]
  },
  {
   "cell_type": "code",
   "execution_count": 208,
   "id": "940ddc31",
   "metadata": {},
   "outputs": [
    {
     "data": {
      "text/plain": [
       "0.9438761852233725"
      ]
     },
     "execution_count": 208,
     "metadata": {},
     "output_type": "execute_result"
    }
   ],
   "source": [
    "model_14.score(x_train,y_train)"
   ]
  },
  {
   "cell_type": "code",
   "execution_count": 209,
   "id": "d615e122",
   "metadata": {},
   "outputs": [
    {
     "data": {
      "text/plain": [
       "-27.111143934016287"
      ]
     },
     "execution_count": 209,
     "metadata": {},
     "output_type": "execute_result"
    }
   ],
   "source": [
    "model_14.score(x_test,y_test)"
   ]
  },
  {
   "cell_type": "code",
   "execution_count": 210,
   "id": "0ff828c8",
   "metadata": {},
   "outputs": [],
   "source": [
    "model_15=GradientBoostingRegressor(max_depth=25)"
   ]
  },
  {
   "cell_type": "code",
   "execution_count": 211,
   "id": "622f5059",
   "metadata": {},
   "outputs": [
    {
     "data": {
      "text/plain": [
       "GradientBoostingRegressor(max_depth=25)"
      ]
     },
     "execution_count": 211,
     "metadata": {},
     "output_type": "execute_result"
    }
   ],
   "source": [
    "model_15.fit(x_train,y_train)"
   ]
  },
  {
   "cell_type": "code",
   "execution_count": 212,
   "id": "b6edac24",
   "metadata": {},
   "outputs": [
    {
     "data": {
      "text/plain": [
       "0.9984849635112237"
      ]
     },
     "execution_count": 212,
     "metadata": {},
     "output_type": "execute_result"
    }
   ],
   "source": [
    "model_15.score(x_train,y_train)"
   ]
  },
  {
   "cell_type": "code",
   "execution_count": 213,
   "id": "3dfa8fd3",
   "metadata": {},
   "outputs": [
    {
     "data": {
      "text/plain": [
       "-32.10850780882516"
      ]
     },
     "execution_count": 213,
     "metadata": {},
     "output_type": "execute_result"
    }
   ],
   "source": [
    "model_15.score(x_test,y_test)"
   ]
  },
  {
   "cell_type": "code",
   "execution_count": null,
   "id": "c0fe3769",
   "metadata": {},
   "outputs": [],
   "source": [
    "## RANDOM FOREST REGRESSOR"
   ]
  },
  {
   "cell_type": "code",
   "execution_count": 214,
   "id": "0601a3e1",
   "metadata": {},
   "outputs": [],
   "source": [
    "from sklearn.ensemble import RandomForestRegressor"
   ]
  },
  {
   "cell_type": "code",
   "execution_count": 215,
   "id": "912d99c5",
   "metadata": {},
   "outputs": [],
   "source": [
    "model_16=RandomForestRegressor()"
   ]
  },
  {
   "cell_type": "code",
   "execution_count": 216,
   "id": "7157e5ab",
   "metadata": {},
   "outputs": [
    {
     "data": {
      "text/plain": [
       "RandomForestRegressor()"
      ]
     },
     "execution_count": 216,
     "metadata": {},
     "output_type": "execute_result"
    }
   ],
   "source": [
    "model_16.fit(x_train,y_train)"
   ]
  },
  {
   "cell_type": "code",
   "execution_count": 217,
   "id": "cd0afa99",
   "metadata": {},
   "outputs": [
    {
     "data": {
      "text/plain": [
       "0.9561983202217226"
      ]
     },
     "execution_count": 217,
     "metadata": {},
     "output_type": "execute_result"
    }
   ],
   "source": [
    "model_16.score(x_train,y_train)"
   ]
  },
  {
   "cell_type": "code",
   "execution_count": 218,
   "id": "2270687e",
   "metadata": {},
   "outputs": [
    {
     "data": {
      "text/plain": [
       "-16.940803097408544"
      ]
     },
     "execution_count": 218,
     "metadata": {},
     "output_type": "execute_result"
    }
   ],
   "source": [
    "model_16.score(x_test,y_test)"
   ]
  },
  {
   "cell_type": "code",
   "execution_count": 222,
   "id": "b9a71ede",
   "metadata": {},
   "outputs": [],
   "source": [
    "model_17=RandomForestRegressor(max_depth=10)"
   ]
  },
  {
   "cell_type": "code",
   "execution_count": 223,
   "id": "ee2df387",
   "metadata": {},
   "outputs": [
    {
     "data": {
      "text/plain": [
       "RandomForestRegressor(max_depth=10)"
      ]
     },
     "execution_count": 223,
     "metadata": {},
     "output_type": "execute_result"
    }
   ],
   "source": [
    "model_17.fit(x_train,y_train)"
   ]
  },
  {
   "cell_type": "code",
   "execution_count": 224,
   "id": "0abf7716",
   "metadata": {},
   "outputs": [
    {
     "data": {
      "text/plain": [
       "0.8384396711091198"
      ]
     },
     "execution_count": 224,
     "metadata": {},
     "output_type": "execute_result"
    }
   ],
   "source": [
    "model_17.score(x_train,y_train)"
   ]
  },
  {
   "cell_type": "code",
   "execution_count": 225,
   "id": "000b7d85",
   "metadata": {},
   "outputs": [
    {
     "data": {
      "text/plain": [
       "-15.755075756311609"
      ]
     },
     "execution_count": 225,
     "metadata": {},
     "output_type": "execute_result"
    }
   ],
   "source": [
    "model_17.score(x_test,y_test)"
   ]
  },
  {
   "cell_type": "code",
   "execution_count": 227,
   "id": "af7590a2",
   "metadata": {},
   "outputs": [],
   "source": [
    "model_18=RandomForestRegressor(max_depth=25)"
   ]
  },
  {
   "cell_type": "code",
   "execution_count": 229,
   "id": "5a9acda8",
   "metadata": {},
   "outputs": [
    {
     "data": {
      "text/plain": [
       "RandomForestRegressor(max_depth=25)"
      ]
     },
     "execution_count": 229,
     "metadata": {},
     "output_type": "execute_result"
    }
   ],
   "source": [
    "model_18.fit(x_train,y_train)"
   ]
  },
  {
   "cell_type": "code",
   "execution_count": 230,
   "id": "749482e1",
   "metadata": {},
   "outputs": [
    {
     "data": {
      "text/plain": [
       "0.9095126390615293"
      ]
     },
     "execution_count": 230,
     "metadata": {},
     "output_type": "execute_result"
    }
   ],
   "source": [
    "model_18.score(x_train,y_train)"
   ]
  },
  {
   "cell_type": "code",
   "execution_count": 231,
   "id": "28250ccb",
   "metadata": {},
   "outputs": [
    {
     "data": {
      "text/plain": [
       "-17.896253848440477"
      ]
     },
     "execution_count": 231,
     "metadata": {},
     "output_type": "execute_result"
    }
   ],
   "source": [
    "model_18.score(x_test,y_test)"
   ]
  },
  {
   "cell_type": "code",
   "execution_count": null,
   "id": "3bafd360",
   "metadata": {},
   "outputs": [],
   "source": [
    "##  predicting data after regression\n",
    "knn regression-mean_square_data=80.3092887168044\n",
    "support vector regressor-mean_square_data=81.36344095145441\n",
    "decision tree regressor-traindata-0.37140644768192166 and testdata--0.0849901057713518\n",
    "bagging regressor-traindata-0.955838696560374 and testdata--17.07320213273574\n",
    "Ada Boosting traindata-0.5373008373617625 and testdata--0.5140087958743982\n",
    "Gradient Boosting traindata-0.9984849635112237 and testdata--32.10850780882516\n",
    "Random Forest Regressor traindata-0.8384396711091198 and testdata--15.755075756311609"
   ]
  },
  {
   "cell_type": "code",
   "execution_count": null,
   "id": "05364d30",
   "metadata": {},
   "outputs": [],
   "source": [
    "By Predicting The data its good to use Decision tree regressor because it is a supervised machine learning algorithm"
   ]
  }
 ],
 "metadata": {
  "kernelspec": {
   "display_name": "Python 3 (ipykernel)",
   "language": "python",
   "name": "python3"
  },
  "language_info": {
   "codemirror_mode": {
    "name": "ipython",
    "version": 3
   },
   "file_extension": ".py",
   "mimetype": "text/x-python",
   "name": "python",
   "nbconvert_exporter": "python",
   "pygments_lexer": "ipython3",
   "version": "3.9.13"
  }
 },
 "nbformat": 4,
 "nbformat_minor": 5
}
